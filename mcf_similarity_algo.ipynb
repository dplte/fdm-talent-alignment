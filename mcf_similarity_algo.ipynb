{
 "cells": [
  {
   "cell_type": "code",
   "execution_count": 1,
   "metadata": {},
   "outputs": [],
   "source": [
    "import pandas as pd\n",
    "import numpy as np\n",
    "from sklearn.feature_extraction.text import TfidfVectorizer\n",
    "from sklearn.metrics.pairwise import cosine_similarity"
   ]
  },
  {
   "cell_type": "code",
   "execution_count": 2,
   "metadata": {},
   "outputs": [],
   "source": [
    "job_data = pd.read_csv(\"mcf webscraping data w job req.csv\")"
   ]
  },
  {
   "cell_type": "code",
   "execution_count": 3,
   "metadata": {},
   "outputs": [
    {
     "name": "stdout",
     "output_type": "stream",
     "text": [
      "Index(['Unnamed: 0', 'Title', 'Company', 'Link', 'Job Description'], dtype='object')\n"
     ]
    }
   ],
   "source": [
    "print(job_data.columns)"
   ]
  },
  {
   "cell_type": "code",
   "execution_count": 4,
   "metadata": {},
   "outputs": [],
   "source": [
    "fdm_curriculum = \"Software Development, Software Testing, DevOps, Cloud Computing, Site Reliability Engineering, Business Intelligence, Business Analytics, Project Support, Data Engineering, Data Science, Machine Learning, Data Governance, Technical Analysis, Amazon Web Services, Cyber Security, Risk and Compliance\""
   ]
  },
  {
   "cell_type": "code",
   "execution_count": 5,
   "metadata": {},
   "outputs": [],
   "source": [
    "job_req = job_data[\"Job Description\"].dropna().tolist()"
   ]
  },
  {
   "cell_type": "code",
   "execution_count": 6,
   "metadata": {},
   "outputs": [],
   "source": [
    "from sklearn.feature_extraction.text import TfidfVectorizer\n",
    "\n",
    "# Combine job descriptions and FDM’s curriculum into one list\n",
    "all_texts = job_req + [fdm_curriculum]\n",
    "\n",
    "# Create TF-IDF vectorizer\n",
    "vectorizer = TfidfVectorizer()\n",
    "\n",
    "# Transform text into TF-IDF vectors\n",
    "tfidf_matrix = vectorizer.fit_transform(all_texts)"
   ]
  },
  {
   "cell_type": "code",
   "execution_count": 7,
   "metadata": {},
   "outputs": [],
   "source": [
    "from sklearn.metrics.pairwise import cosine_similarity\n",
    "\n",
    "# Compare last row (FDM curriculum) with all job postings\n",
    "similarity_scores = cosine_similarity(tfidf_matrix[-1:], tfidf_matrix[:-1])"
   ]
  },
  {
   "cell_type": "code",
   "execution_count": 8,
   "metadata": {},
   "outputs": [
    {
     "name": "stdout",
     "output_type": "stream",
     "text": [
      "\n",
      "Job Rankings Based on Similarity to FDM Curriculum:\n",
      "1. Job 106 - Similarity Score: 0.2812\n",
      "2. Job 63 - Similarity Score: 0.2423\n",
      "3. Job 107 - Similarity Score: 0.2392\n",
      "4. Job 91 - Similarity Score: 0.2353\n",
      "5. Job 86 - Similarity Score: 0.2351\n",
      "6. Job 62 - Similarity Score: 0.2237\n",
      "7. Job 88 - Similarity Score: 0.2181\n",
      "8. Job 112 - Similarity Score: 0.2135\n",
      "9. Job 110 - Similarity Score: 0.2040\n",
      "10. Job 108 - Similarity Score: 0.2029\n",
      "11. Job 74 - Similarity Score: 0.2018\n",
      "12. Job 67 - Similarity Score: 0.2005\n",
      "13. Job 71 - Similarity Score: 0.2005\n",
      "14. Job 59 - Similarity Score: 0.2001\n",
      "15. Job 82 - Similarity Score: 0.1944\n",
      "16. Job 83 - Similarity Score: 0.1944\n",
      "17. Job 118 - Similarity Score: 0.1891\n",
      "18. Job 28 - Similarity Score: 0.1864\n",
      "19. Job 114 - Similarity Score: 0.1833\n",
      "20. Job 85 - Similarity Score: 0.1823\n",
      "21. Job 81 - Similarity Score: 0.1821\n",
      "22. Job 69 - Similarity Score: 0.1821\n",
      "23. Job 51 - Similarity Score: 0.1814\n",
      "24. Job 94 - Similarity Score: 0.1812\n",
      "25. Job 72 - Similarity Score: 0.1812\n",
      "26. Job 11 - Similarity Score: 0.1810\n",
      "27. Job 66 - Similarity Score: 0.1782\n",
      "28. Job 76 - Similarity Score: 0.1720\n",
      "29. Job 24 - Similarity Score: 0.1631\n",
      "30. Job 115 - Similarity Score: 0.1616\n",
      "31. Job 41 - Similarity Score: 0.1595\n",
      "32. Job 84 - Similarity Score: 0.1523\n",
      "33. Job 19 - Similarity Score: 0.1508\n",
      "34. Job 73 - Similarity Score: 0.1484\n",
      "35. Job 75 - Similarity Score: 0.1483\n",
      "36. Job 52 - Similarity Score: 0.1480\n",
      "37. Job 89 - Similarity Score: 0.1474\n",
      "38. Job 55 - Similarity Score: 0.1469\n",
      "39. Job 56 - Similarity Score: 0.1450\n",
      "40. Job 57 - Similarity Score: 0.1388\n",
      "41. Job 93 - Similarity Score: 0.1365\n",
      "42. Job 117 - Similarity Score: 0.1313\n",
      "43. Job 45 - Similarity Score: 0.1307\n",
      "44. Job 46 - Similarity Score: 0.1307\n",
      "45. Job 44 - Similarity Score: 0.1307\n",
      "46. Job 47 - Similarity Score: 0.1267\n",
      "47. Job 111 - Similarity Score: 0.1248\n",
      "48. Job 20 - Similarity Score: 0.1207\n",
      "49. Job 21 - Similarity Score: 0.1207\n",
      "50. Job 4 - Similarity Score: 0.1205\n",
      "51. Job 26 - Similarity Score: 0.1204\n",
      "52. Job 23 - Similarity Score: 0.1165\n",
      "53. Job 68 - Similarity Score: 0.1162\n",
      "54. Job 77 - Similarity Score: 0.1114\n",
      "55. Job 90 - Similarity Score: 0.1113\n",
      "56. Job 8 - Similarity Score: 0.1108\n",
      "57. Job 95 - Similarity Score: 0.1102\n",
      "58. Job 17 - Similarity Score: 0.1092\n",
      "59. Job 13 - Similarity Score: 0.1082\n",
      "60. Job 50 - Similarity Score: 0.1080\n",
      "61. Job 6 - Similarity Score: 0.1073\n",
      "62. Job 29 - Similarity Score: 0.1064\n",
      "63. Job 33 - Similarity Score: 0.1060\n",
      "64. Job 32 - Similarity Score: 0.1057\n",
      "65. Job 18 - Similarity Score: 0.1053\n",
      "66. Job 116 - Similarity Score: 0.1001\n",
      "67. Job 14 - Similarity Score: 0.0968\n",
      "68. Job 2 - Similarity Score: 0.0967\n",
      "69. Job 79 - Similarity Score: 0.0959\n",
      "70. Job 98 - Similarity Score: 0.0954\n",
      "71. Job 40 - Similarity Score: 0.0953\n",
      "72. Job 34 - Similarity Score: 0.0939\n",
      "73. Job 5 - Similarity Score: 0.0926\n",
      "74. Job 65 - Similarity Score: 0.0917\n",
      "75. Job 78 - Similarity Score: 0.0914\n",
      "76. Job 30 - Similarity Score: 0.0891\n",
      "77. Job 31 - Similarity Score: 0.0891\n",
      "78. Job 49 - Similarity Score: 0.0877\n",
      "79. Job 9 - Similarity Score: 0.0867\n",
      "80. Job 64 - Similarity Score: 0.0863\n",
      "81. Job 10 - Similarity Score: 0.0859\n",
      "82. Job 16 - Similarity Score: 0.0855\n",
      "83. Job 39 - Similarity Score: 0.0847\n",
      "84. Job 60 - Similarity Score: 0.0844\n",
      "85. Job 38 - Similarity Score: 0.0838\n",
      "86. Job 27 - Similarity Score: 0.0789\n",
      "87. Job 61 - Similarity Score: 0.0747\n",
      "88. Job 54 - Similarity Score: 0.0715\n",
      "89. Job 70 - Similarity Score: 0.0699\n",
      "90. Job 103 - Similarity Score: 0.0697\n",
      "91. Job 113 - Similarity Score: 0.0697\n",
      "92. Job 96 - Similarity Score: 0.0693\n",
      "93. Job 100 - Similarity Score: 0.0693\n",
      "94. Job 97 - Similarity Score: 0.0693\n",
      "95. Job 99 - Similarity Score: 0.0693\n",
      "96. Job 3 - Similarity Score: 0.0691\n",
      "97. Job 101 - Similarity Score: 0.0679\n",
      "98. Job 102 - Similarity Score: 0.0679\n",
      "99. Job 80 - Similarity Score: 0.0665\n",
      "100. Job 7 - Similarity Score: 0.0657\n",
      "101. Job 104 - Similarity Score: 0.0654\n",
      "102. Job 1 - Similarity Score: 0.0624\n",
      "103. Job 37 - Similarity Score: 0.0621\n",
      "104. Job 42 - Similarity Score: 0.0607\n",
      "105. Job 43 - Similarity Score: 0.0607\n",
      "106. Job 109 - Similarity Score: 0.0558\n",
      "107. Job 58 - Similarity Score: 0.0550\n",
      "108. Job 15 - Similarity Score: 0.0522\n",
      "109. Job 36 - Similarity Score: 0.0521\n",
      "110. Job 35 - Similarity Score: 0.0519\n",
      "111. Job 48 - Similarity Score: 0.0501\n",
      "112. Job 12 - Similarity Score: 0.0427\n",
      "113. Job 87 - Similarity Score: 0.0426\n",
      "114. Job 53 - Similarity Score: 0.0400\n",
      "115. Job 22 - Similarity Score: 0.0389\n",
      "116. Job 105 - Similarity Score: 0.0383\n",
      "117. Job 25 - Similarity Score: 0.0202\n",
      "118. Job 92 - Similarity Score: 0.0177\n"
     ]
    }
   ],
   "source": [
    "import numpy as np\n",
    "\n",
    "# Get sorted indices (highest similarity first)\n",
    "ranked_indices = np.argsort(similarity_scores[0])[::-1]\n",
    "\n",
    "# Print ranked jobs with similarity scores\n",
    "print(\"\\nJob Rankings Based on Similarity to FDM Curriculum:\")\n",
    "for i, idx in enumerate(ranked_indices):\n",
    "    print(f\"{i+1}. Job {idx+1} - Similarity Score: {similarity_scores[0][idx]:.4f}\")"
   ]
  },
  {
   "cell_type": "code",
   "execution_count": 9,
   "metadata": {},
   "outputs": [
    {
     "name": "stdout",
     "output_type": "stream",
     "text": [
      "                                           Job Title  \\\n",
      "0                               Senior Data Engineer   \n",
      "1                           DATA ANALYST / UP TO 10K   \n",
      "2                             Data Engineer (Intern)   \n",
      "3                                G07 - Data Engineer   \n",
      "4  Data Manager for URA with 4 years experience (...   \n",
      "5                                 Lead Data Engineer   \n",
      "6                         Senior Data Analyst - SPVL   \n",
      "7                             Data Analyst (JD#9997)   \n",
      "8                     Data Analyst (Bank |Up to $8k)   \n",
      "9  Data Analyst, Office of Campus Infrastructure ...   \n",
      "\n",
      "                            Company Name  Similarity Score  \n",
      "0      MISTER MOBILE WOODLANDS PTE. LTD.          0.281193  \n",
      "1       AEON SEARCH CONSULTING PTE. LTD.          0.242263  \n",
      "2                    LHN GROUP PTE. LTD.          0.239186  \n",
      "3             FPT ASIA PACIFIC PTE. LTD.          0.235319  \n",
      "4                    WEBSPARKS PTE. LTD.          0.235067  \n",
      "5  HAYS SPECIALIST RECRUITMENT PTE. LTD.          0.223656  \n",
      "6          SCIENTEC CONSULTING PTE. LTD.          0.218125  \n",
      "7        SCIENTE INTERNATIONAL PTE. LTD.          0.213538  \n",
      "8               ADECCO PERSONNEL PTE LTD          0.204016  \n",
      "9          HYPERSCAL SOLUTIONS PTE. LTD.          0.202897  \n"
     ]
    }
   ],
   "source": [
    "# Create a DataFrame with ranked results\n",
    "ranked_jobs = pd.DataFrame({\n",
    "    \"Job Title\": job_data[\"Title\"].iloc[ranked_indices].values,\n",
    "    \"Company Name\": job_data[\"Company\"].iloc[ranked_indices].values,\n",
    "    \"Similarity Score\": similarity_scores[0][ranked_indices]\n",
    "})\n",
    "\n",
    "# Show the top-ranked jobs\n",
    "print(ranked_jobs.head(10))"
   ]
  }
 ],
 "metadata": {
  "kernelspec": {
   "display_name": "base",
   "language": "python",
   "name": "python3"
  },
  "language_info": {
   "codemirror_mode": {
    "name": "ipython",
    "version": 3
   },
   "file_extension": ".py",
   "mimetype": "text/x-python",
   "name": "python",
   "nbconvert_exporter": "python",
   "pygments_lexer": "ipython3",
   "version": "3.11.4"
  }
 },
 "nbformat": 4,
 "nbformat_minor": 2
}
