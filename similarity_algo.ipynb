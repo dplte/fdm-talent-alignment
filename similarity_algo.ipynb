{
 "cells": [
  {
   "cell_type": "code",
   "execution_count": 10,
   "metadata": {},
   "outputs": [],
   "source": [
    "import pandas as pd\n",
    "import numpy as np\n",
    "from sklearn.feature_extraction.text import TfidfVectorizer\n",
    "from sklearn.metrics.pairwise import cosine_similarity"
   ]
  },
  {
   "cell_type": "code",
   "execution_count": 11,
   "metadata": {},
   "outputs": [],
   "source": [
    "job_data = pd.read_csv(\"glints_singapore_jobs.csv\")"
   ]
  },
  {
   "cell_type": "code",
   "execution_count": 12,
   "metadata": {},
   "outputs": [
    {
     "name": "stdout",
     "output_type": "stream",
     "text": [
      "Index(['Job Title', 'Company Name', 'Industry', 'City', 'Country',\n",
      "       'Employment Type', 'Work Arrangement', 'Min Experience (Years)',\n",
      "       'Max Experience (Years)', 'Salary Min (SGD)', 'Salary Max (SGD)',\n",
      "       'Skills'],\n",
      "      dtype='object')\n"
     ]
    }
   ],
   "source": [
    "print(job_data.columns)"
   ]
  },
  {
   "cell_type": "code",
   "execution_count": 13,
   "metadata": {},
   "outputs": [],
   "source": [
    "fdm_curriculum = \"Software Development, Software Testing, DevOps, Cloud Computing, Site Reliability Engineering, Business Intelligence, Business Analytics, Project Support, Data Engineering, Data Science, Machine Learning, Data Governance, Technical Analysis, Amazon Web Services, Cyber Security, Risk and Compliance\""
   ]
  },
  {
   "cell_type": "code",
   "execution_count": 14,
   "metadata": {},
   "outputs": [],
   "source": [
    "skills = job_data[\"Skills\"].dropna().tolist()"
   ]
  },
  {
   "cell_type": "code",
   "execution_count": 15,
   "metadata": {},
   "outputs": [],
   "source": [
    "from sklearn.feature_extraction.text import TfidfVectorizer\n",
    "\n",
    "# Combine job descriptions and FDM’s curriculum into one list\n",
    "all_texts = skills + [fdm_curriculum]\n",
    "\n",
    "# Create TF-IDF vectorizer\n",
    "vectorizer = TfidfVectorizer()\n",
    "\n",
    "# Transform text into TF-IDF vectors\n",
    "tfidf_matrix = vectorizer.fit_transform(all_texts)"
   ]
  },
  {
   "cell_type": "code",
   "execution_count": 16,
   "metadata": {},
   "outputs": [],
   "source": [
    "from sklearn.metrics.pairwise import cosine_similarity\n",
    "\n",
    "# Compare last row (FDM curriculum) with all job postings\n",
    "similarity_scores = cosine_similarity(tfidf_matrix[-1:], tfidf_matrix[:-1])"
   ]
  },
  {
   "cell_type": "code",
   "execution_count": 17,
   "metadata": {},
   "outputs": [
    {
     "name": "stdout",
     "output_type": "stream",
     "text": [
      "\n",
      "Job Rankings Based on Similarity to FDM Curriculum:\n",
      "1. Job 15 - Similarity Score: 0.2720\n",
      "2. Job 1 - Similarity Score: 0.1770\n",
      "3. Job 21 - Similarity Score: 0.1415\n",
      "4. Job 4 - Similarity Score: 0.1393\n",
      "5. Job 2 - Similarity Score: 0.1242\n",
      "6. Job 14 - Similarity Score: 0.1235\n",
      "7. Job 16 - Similarity Score: 0.1151\n",
      "8. Job 3 - Similarity Score: 0.1121\n",
      "9. Job 6 - Similarity Score: 0.1034\n",
      "10. Job 12 - Similarity Score: 0.1011\n",
      "11. Job 29 - Similarity Score: 0.0959\n",
      "12. Job 9 - Similarity Score: 0.0870\n",
      "13. Job 17 - Similarity Score: 0.0840\n",
      "14. Job 13 - Similarity Score: 0.0803\n",
      "15. Job 26 - Similarity Score: 0.0771\n",
      "16. Job 27 - Similarity Score: 0.0702\n",
      "17. Job 18 - Similarity Score: 0.0672\n",
      "18. Job 7 - Similarity Score: 0.0605\n",
      "19. Job 28 - Similarity Score: 0.0592\n",
      "20. Job 11 - Similarity Score: 0.0383\n",
      "21. Job 23 - Similarity Score: 0.0295\n",
      "22. Job 20 - Similarity Score: 0.0219\n",
      "23. Job 10 - Similarity Score: 0.0000\n",
      "24. Job 19 - Similarity Score: 0.0000\n",
      "25. Job 8 - Similarity Score: 0.0000\n",
      "26. Job 22 - Similarity Score: 0.0000\n",
      "27. Job 5 - Similarity Score: 0.0000\n",
      "28. Job 24 - Similarity Score: 0.0000\n",
      "29. Job 25 - Similarity Score: 0.0000\n"
     ]
    }
   ],
   "source": [
    "import numpy as np\n",
    "\n",
    "# Get sorted indices (highest similarity first)\n",
    "ranked_indices = np.argsort(similarity_scores[0])[::-1]\n",
    "\n",
    "# Print ranked jobs with similarity scores\n",
    "print(\"\\nJob Rankings Based on Similarity to FDM Curriculum:\")\n",
    "for i, idx in enumerate(ranked_indices):\n",
    "    print(f\"{i+1}. Job {idx+1} - Similarity Score: {similarity_scores[0][idx]:.4f}\")"
   ]
  },
  {
   "cell_type": "code",
   "execution_count": 19,
   "metadata": {},
   "outputs": [
    {
     "name": "stdout",
     "output_type": "stream",
     "text": [
      "                                           Job Title  \\\n",
      "0   Analyst Programmer / Systems Analyst (DSD) [NIE]   \n",
      "1                             Software Test Engineer   \n",
      "2                             AI Workflow Specialist   \n",
      "3                                 Software Developer   \n",
      "4              Full Stack Software Engineer (Remote)   \n",
      "5  Technical/ Assistant director (Professional En...   \n",
      "6                Backend Developer (Includes Equity)   \n",
      "7             Software QA Engineer (Includes Equity)   \n",
      "8                          Intern Software Developer   \n",
      "9                      Civil and Structural Engineer   \n",
      "\n",
      "                      Company Name  Similarity Score  \n",
      "0  National Institute Of Education          0.271970  \n",
      "1              GivEnergy Pte. Ltd.          0.176973  \n",
      "2                 The Swim Starter          0.141508  \n",
      "3                            Cinch          0.139346  \n",
      "4                    Hypotenuse AI          0.124241  \n",
      "5  Encasa Asia Employment Services          0.123500  \n",
      "6                             Noak          0.115067  \n",
      "7                             Noak          0.112140  \n",
      "8                    Rsm Singapore          0.103387  \n",
      "9  Encasa Asia Employment Services          0.101097  \n"
     ]
    }
   ],
   "source": [
    "# Create a DataFrame with ranked results\n",
    "ranked_jobs = pd.DataFrame({\n",
    "    \"Job Title\": job_data[\"Job Title\"].iloc[ranked_indices].values,\n",
    "    \"Company Name\": job_data[\"Company Name\"].iloc[ranked_indices].values,\n",
    "    \"Similarity Score\": similarity_scores[0][ranked_indices]\n",
    "})\n",
    "\n",
    "# Save to CSV\n",
    "ranked_jobs.to_csv(\"ranked_jobs.csv\", index=False)\n",
    "\n",
    "# Show the top-ranked jobs\n",
    "print(ranked_jobs.head(10))"
   ]
  }
 ],
 "metadata": {
  "kernelspec": {
   "display_name": "base",
   "language": "python",
   "name": "python3"
  },
  "language_info": {
   "codemirror_mode": {
    "name": "ipython",
    "version": 3
   },
   "file_extension": ".py",
   "mimetype": "text/x-python",
   "name": "python",
   "nbconvert_exporter": "python",
   "pygments_lexer": "ipython3",
   "version": "3.11.4"
  }
 },
 "nbformat": 4,
 "nbformat_minor": 2
}
