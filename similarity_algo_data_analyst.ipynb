{
 "cells": [
  {
   "cell_type": "code",
   "execution_count": 10,
   "metadata": {},
   "outputs": [],
   "source": [
    "import pandas as pd\n",
    "import numpy as np\n",
    "from sklearn.feature_extraction.text import TfidfVectorizer\n",
    "from sklearn.metrics.pairwise import cosine_similarity"
   ]
  },
  {
   "cell_type": "code",
   "execution_count": 11,
   "metadata": {},
   "outputs": [],
   "source": [
    "job_data = pd.read_csv(\"glints_data analyst keyword.csv\")"
   ]
  },
  {
   "cell_type": "code",
   "execution_count": 12,
   "metadata": {},
   "outputs": [
    {
     "name": "stdout",
     "output_type": "stream",
     "text": [
      "Index(['Job Title', 'Company Name', 'Industry', 'City', 'Country',\n",
      "       'Employment Type', 'Work Arrangement', 'Min Experience (Years)',\n",
      "       'Max Experience (Years)', 'Salary Min (SGD)', 'Salary Max (SGD)',\n",
      "       'Skills'],\n",
      "      dtype='object')\n"
     ]
    }
   ],
   "source": [
    "print(job_data.columns)"
   ]
  },
  {
   "cell_type": "code",
   "execution_count": 13,
   "metadata": {},
   "outputs": [],
   "source": [
    "fdm_curriculum = \"Software Development, Software Testing, DevOps, Cloud Computing, Site Reliability Engineering, Business Intelligence, Business Analytics, Project Support, Data Engineering, Data Science, Machine Learning, Data Governance, Technical Analysis, Amazon Web Services, Cyber Security, Risk and Compliance\""
   ]
  },
  {
   "cell_type": "code",
   "execution_count": 14,
   "metadata": {},
   "outputs": [],
   "source": [
    "skills = job_data[\"Skills\"].dropna().tolist()"
   ]
  },
  {
   "cell_type": "code",
   "execution_count": 15,
   "metadata": {},
   "outputs": [],
   "source": [
    "from sklearn.feature_extraction.text import TfidfVectorizer\n",
    "\n",
    "# Combine job descriptions and FDM’s curriculum into one list\n",
    "all_texts = skills + [fdm_curriculum]\n",
    "\n",
    "# Create TF-IDF vectorizer\n",
    "vectorizer = TfidfVectorizer()\n",
    "\n",
    "# Transform text into TF-IDF vectors\n",
    "tfidf_matrix = vectorizer.fit_transform(all_texts)"
   ]
  },
  {
   "cell_type": "code",
   "execution_count": 16,
   "metadata": {},
   "outputs": [],
   "source": [
    "from sklearn.metrics.pairwise import cosine_similarity\n",
    "\n",
    "# Compare last row (FDM curriculum) with all job postings\n",
    "similarity_scores = cosine_similarity(tfidf_matrix[-1:], tfidf_matrix[:-1])"
   ]
  },
  {
   "cell_type": "code",
   "execution_count": 17,
   "metadata": {},
   "outputs": [
    {
     "name": "stdout",
     "output_type": "stream",
     "text": [
      "\n",
      "Job Rankings Based on Similarity to FDM Curriculum:\n",
      "1. Job 2 - Similarity Score: 0.2028\n",
      "2. Job 19 - Similarity Score: 0.1437\n",
      "3. Job 10 - Similarity Score: 0.1314\n",
      "4. Job 17 - Similarity Score: 0.1048\n",
      "5. Job 9 - Similarity Score: 0.1003\n",
      "6. Job 20 - Similarity Score: 0.1001\n",
      "7. Job 5 - Similarity Score: 0.0964\n",
      "8. Job 21 - Similarity Score: 0.0921\n",
      "9. Job 1 - Similarity Score: 0.0794\n",
      "10. Job 22 - Similarity Score: 0.0750\n",
      "11. Job 6 - Similarity Score: 0.0569\n",
      "12. Job 23 - Similarity Score: 0.0559\n",
      "13. Job 16 - Similarity Score: 0.0511\n",
      "14. Job 3 - Similarity Score: 0.0498\n",
      "15. Job 15 - Similarity Score: 0.0478\n",
      "16. Job 18 - Similarity Score: 0.0449\n",
      "17. Job 13 - Similarity Score: 0.0441\n",
      "18. Job 11 - Similarity Score: 0.0390\n",
      "19. Job 14 - Similarity Score: 0.0382\n",
      "20. Job 12 - Similarity Score: 0.0376\n",
      "21. Job 8 - Similarity Score: 0.0000\n",
      "22. Job 7 - Similarity Score: 0.0000\n",
      "23. Job 4 - Similarity Score: 0.0000\n"
     ]
    }
   ],
   "source": [
    "import numpy as np\n",
    "\n",
    "# Get sorted indices (highest similarity first)\n",
    "ranked_indices = np.argsort(similarity_scores[0])[::-1]\n",
    "\n",
    "# Print ranked jobs with similarity scores\n",
    "print(\"\\nJob Rankings Based on Similarity to FDM Curriculum:\")\n",
    "for i, idx in enumerate(ranked_indices):\n",
    "    print(f\"{i+1}. Job {idx+1} - Similarity Score: {similarity_scores[0][idx]:.4f}\")"
   ]
  },
  {
   "cell_type": "code",
   "execution_count": 18,
   "metadata": {},
   "outputs": [
    {
     "name": "stdout",
     "output_type": "stream",
     "text": [
      "                                           Job Title  \\\n",
      "0   Analyst Programmer / Systems Analyst (DSD) [NIE]   \n",
      "1         Employer Partnerships and Placement Intern   \n",
      "2  Data Annotation Specialist Intern (Video Analy...   \n",
      "3                        Digital Marketing Executive   \n",
      "4             Senior IT Security Analyst (ISD) [NIE]   \n",
      "5                                    Admin Executive   \n",
      "6                                Intern Data Science   \n",
      "7                       Project Officer (NSSE) [NIE]   \n",
      "8                                Application Analyst   \n",
      "9  Project Officer (Learning Sciences & Assessmen...   \n",
      "\n",
      "                               Company Name  Similarity Score  \n",
      "0           National Institute Of Education          0.202759  \n",
      "1  Generation: You Employed, Singapore Ltd.          0.143716  \n",
      "2                                  Ailytics          0.131398  \n",
      "3                Motorway SsangYong Pte Ltd          0.104781  \n",
      "4           National Institute Of Education          0.100294  \n",
      "5                 Ademco (Far East) Pte Ltd          0.100054  \n",
      "6                             Rsm Singapore          0.096370  \n",
      "7           National Institute Of Education          0.092074  \n",
      "8                       iTrustech Pte. Ltd.          0.079390  \n",
      "9           National Institute Of Education          0.074991  \n"
     ]
    }
   ],
   "source": [
    "# Create a DataFrame with ranked results\n",
    "ranked_jobs = pd.DataFrame({\n",
    "    \"Job Title\": job_data[\"Job Title\"].iloc[ranked_indices].values,\n",
    "    \"Company Name\": job_data[\"Company Name\"].iloc[ranked_indices].values,\n",
    "    \"Similarity Score\": similarity_scores[0][ranked_indices]\n",
    "})\n",
    "\n",
    "# Save to CSV\n",
    "ranked_jobs.to_csv(\"ranked_jobs.csv\", index=False)\n",
    "\n",
    "# Show the top-ranked jobs\n",
    "print(ranked_jobs.head(10))"
   ]
  }
 ],
 "metadata": {
  "kernelspec": {
   "display_name": "base",
   "language": "python",
   "name": "python3"
  },
  "language_info": {
   "codemirror_mode": {
    "name": "ipython",
    "version": 3
   },
   "file_extension": ".py",
   "mimetype": "text/x-python",
   "name": "python",
   "nbconvert_exporter": "python",
   "pygments_lexer": "ipython3",
   "version": "3.11.4"
  }
 },
 "nbformat": 4,
 "nbformat_minor": 2
}
