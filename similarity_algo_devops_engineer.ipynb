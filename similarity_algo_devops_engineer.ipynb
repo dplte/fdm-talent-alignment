{
 "cells": [
  {
   "cell_type": "code",
   "execution_count": 1,
   "metadata": {},
   "outputs": [],
   "source": [
    "import pandas as pd\n",
    "import numpy as np\n",
    "from sklearn.feature_extraction.text import TfidfVectorizer\n",
    "from sklearn.metrics.pairwise import cosine_similarity"
   ]
  },
  {
   "cell_type": "code",
   "execution_count": 2,
   "metadata": {},
   "outputs": [],
   "source": [
    "job_data = pd.read_csv(\"glints_devops engineer keyword.csv\")"
   ]
  },
  {
   "cell_type": "code",
   "execution_count": 3,
   "metadata": {},
   "outputs": [
    {
     "name": "stdout",
     "output_type": "stream",
     "text": [
      "Index(['Job Title', 'Company Name', 'Industry', 'City', 'Country',\n",
      "       'Employment Type', 'Work Arrangement', 'Min Experience (Years)',\n",
      "       'Max Experience (Years)', 'Salary Min (SGD)', 'Salary Max (SGD)',\n",
      "       'Skills'],\n",
      "      dtype='object')\n"
     ]
    }
   ],
   "source": [
    "print(job_data.columns)"
   ]
  },
  {
   "cell_type": "code",
   "execution_count": 4,
   "metadata": {},
   "outputs": [],
   "source": [
    "fdm_curriculum = \"Software Development, Software Testing, DevOps, Cloud Computing, Site Reliability Engineering, Business Intelligence, Business Analytics, Project Support, Data Engineering, Data Science, Machine Learning, Data Governance, Technical Analysis, Amazon Web Services, Cyber Security, Risk and Compliance\""
   ]
  },
  {
   "cell_type": "code",
   "execution_count": 5,
   "metadata": {},
   "outputs": [],
   "source": [
    "skills = job_data[\"Skills\"].dropna().tolist()"
   ]
  },
  {
   "cell_type": "code",
   "execution_count": 6,
   "metadata": {},
   "outputs": [],
   "source": [
    "from sklearn.feature_extraction.text import TfidfVectorizer\n",
    "\n",
    "# Combine job descriptions and FDM’s curriculum into one list\n",
    "all_texts = skills + [fdm_curriculum]\n",
    "\n",
    "# Create TF-IDF vectorizer\n",
    "vectorizer = TfidfVectorizer()\n",
    "\n",
    "# Transform text into TF-IDF vectors\n",
    "tfidf_matrix = vectorizer.fit_transform(all_texts)"
   ]
  },
  {
   "cell_type": "code",
   "execution_count": 7,
   "metadata": {},
   "outputs": [],
   "source": [
    "from sklearn.metrics.pairwise import cosine_similarity\n",
    "\n",
    "# Compare last row (FDM curriculum) with all job postings\n",
    "similarity_scores = cosine_similarity(tfidf_matrix[-1:], tfidf_matrix[:-1])"
   ]
  },
  {
   "cell_type": "code",
   "execution_count": 8,
   "metadata": {},
   "outputs": [
    {
     "name": "stdout",
     "output_type": "stream",
     "text": [
      "\n",
      "Job Rankings Based on Similarity to FDM Curriculum:\n",
      "1. Job 13 - Similarity Score: 0.2653\n",
      "2. Job 14 - Similarity Score: 0.2314\n",
      "3. Job 3 - Similarity Score: 0.1819\n",
      "4. Job 2 - Similarity Score: 0.1648\n",
      "5. Job 10 - Similarity Score: 0.1473\n",
      "6. Job 17 - Similarity Score: 0.1282\n",
      "7. Job 9 - Similarity Score: 0.1278\n",
      "8. Job 8 - Similarity Score: 0.1173\n",
      "9. Job 6 - Similarity Score: 0.1153\n",
      "10. Job 22 - Similarity Score: 0.1123\n",
      "11. Job 5 - Similarity Score: 0.1074\n",
      "12. Job 7 - Similarity Score: 0.1012\n",
      "13. Job 25 - Similarity Score: 0.0932\n",
      "14. Job 26 - Similarity Score: 0.0932\n",
      "15. Job 18 - Similarity Score: 0.0880\n",
      "16. Job 15 - Similarity Score: 0.0720\n",
      "17. Job 4 - Similarity Score: 0.0692\n",
      "18. Job 16 - Similarity Score: 0.0675\n",
      "19. Job 27 - Similarity Score: 0.0663\n",
      "20. Job 1 - Similarity Score: 0.0642\n",
      "21. Job 28 - Similarity Score: 0.0616\n",
      "22. Job 11 - Similarity Score: 0.0259\n",
      "23. Job 23 - Similarity Score: 0.0189\n",
      "24. Job 12 - Similarity Score: 0.0000\n",
      "25. Job 19 - Similarity Score: 0.0000\n",
      "26. Job 20 - Similarity Score: 0.0000\n",
      "27. Job 21 - Similarity Score: 0.0000\n",
      "28. Job 24 - Similarity Score: 0.0000\n",
      "29. Job 29 - Similarity Score: 0.0000\n"
     ]
    }
   ],
   "source": [
    "import numpy as np\n",
    "\n",
    "# Get sorted indices (highest similarity first)\n",
    "ranked_indices = np.argsort(similarity_scores[0])[::-1]\n",
    "\n",
    "# Print ranked jobs with similarity scores\n",
    "print(\"\\nJob Rankings Based on Similarity to FDM Curriculum:\")\n",
    "for i, idx in enumerate(ranked_indices):\n",
    "    print(f\"{i+1}. Job {idx+1} - Similarity Score: {similarity_scores[0][idx]:.4f}\")"
   ]
  },
  {
   "cell_type": "code",
   "execution_count": 9,
   "metadata": {},
   "outputs": [
    {
     "name": "stdout",
     "output_type": "stream",
     "text": [
      "                                           Job Title  \\\n",
      "0   Analyst Programmer / Systems Analyst (DSD) [NIE]   \n",
      "1                        Senior Full Stack Developer   \n",
      "2                            Solution Sales Engineer   \n",
      "3                             Software Test Engineer   \n",
      "4                                 Software Developer   \n",
      "5     Web Application Developer Intern - summer 2025   \n",
      "6  Technical/ Assistant director (Professional En...   \n",
      "7             Software QA Engineer (Includes Equity)   \n",
      "8              Full Stack Software Engineer (Remote)   \n",
      "9                Backend Developer (Includes Equity)   \n",
      "\n",
      "                      Company Name  Similarity Score  \n",
      "0  National Institute Of Education          0.265255  \n",
      "1              GivEnergy Pte. Ltd.          0.231370  \n",
      "2    Aerowave technologies pte ltd          0.181909  \n",
      "3              GivEnergy Pte. Ltd.          0.164797  \n",
      "4                            Cinch          0.147270  \n",
      "5             Truffle Technologies          0.128231  \n",
      "6  Encasa Asia Employment Services          0.127781  \n",
      "7                             Noak          0.117254  \n",
      "8                    Hypotenuse AI          0.115313  \n",
      "9                             Noak          0.112345  \n"
     ]
    }
   ],
   "source": [
    "# Create a DataFrame with ranked results\n",
    "ranked_jobs = pd.DataFrame({\n",
    "    \"Job Title\": job_data[\"Job Title\"].iloc[ranked_indices].values,\n",
    "    \"Company Name\": job_data[\"Company Name\"].iloc[ranked_indices].values,\n",
    "    \"Similarity Score\": similarity_scores[0][ranked_indices]\n",
    "})\n",
    "\n",
    "# Save to CSV\n",
    "ranked_jobs.to_csv(\"ranked_jobs.csv\", index=False)\n",
    "\n",
    "# Show the top-ranked jobs\n",
    "print(ranked_jobs.head(10))"
   ]
  }
 ],
 "metadata": {
  "kernelspec": {
   "display_name": "base",
   "language": "python",
   "name": "python3"
  },
  "language_info": {
   "codemirror_mode": {
    "name": "ipython",
    "version": 3
   },
   "file_extension": ".py",
   "mimetype": "text/x-python",
   "name": "python",
   "nbconvert_exporter": "python",
   "pygments_lexer": "ipython3",
   "version": "3.11.4"
  }
 },
 "nbformat": 4,
 "nbformat_minor": 2
}
